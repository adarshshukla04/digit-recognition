{
 "cells": [
  {
   "cell_type": "code",
   "execution_count": null,
   "metadata": {
    "id": "JJE0zhW1xSYI"
   },
   "outputs": [],
   "source": [
    "import os\n",
    "import tensorflow as tf\n",
    "from tensorflow import keras"
   ]
  },
  {
   "cell_type": "code",
   "execution_count": null,
   "metadata": {
    "colab": {
     "base_uri": "https://localhost:8080/"
    },
    "id": "eThunV-Kxq5E",
    "outputId": "0e7cb963-7a5d-43b6-ea98-5bc2f752331e"
   },
   "outputs": [
    {
     "name": "stdout",
     "output_type": "stream",
     "text": [
      "Downloading data from https://storage.googleapis.com/tensorflow/tf-keras-datasets/mnist.npz\n",
      "11493376/11490434 [==============================] - 0s 0us/step\n",
      "11501568/11490434 [==============================] - 0s 0us/step\n"
     ]
    }
   ],
   "source": [
    "# load data\n",
    "\n",
    "(x_train, y_train), (x_test, y_test) = tf.keras.datasets.mnist.load_data()\n",
    "\n"
   ]
  },
  {
   "cell_type": "code",
   "execution_count": null,
   "metadata": {
    "colab": {
     "base_uri": "https://localhost:8080/"
    },
    "id": "2q-A6x5uFmiO",
    "outputId": "070474bc-67a1-44e5-c0e4-0586be29ef6a"
   },
   "outputs": [
    {
     "data": {
      "text/plain": [
       "(60000, 28, 28)"
      ]
     },
     "execution_count": 3,
     "metadata": {},
     "output_type": "execute_result"
    }
   ],
   "source": [
    "x_train.shape"
   ]
  },
  {
   "cell_type": "code",
   "execution_count": null,
   "metadata": {
    "colab": {
     "base_uri": "https://localhost:8080/",
     "height": 658
    },
    "id": "A6mUK1LtysC6",
    "outputId": "acbb5d2d-3ce0-4242-95c8-6657a00df1b7"
   },
   "outputs": [
    {
     "data": {
      "image/png": "[encoded data removed]",
      "text/plain": [
       "<Figure size 1080x1080 with 9 Axes>"
      ]
     },
     "metadata": {},
     "output_type": "display_data"
    }
   ],
   "source": [
    "from matplotlib import pyplot as plt\n",
    "# make figure \n",
    "plt.figure(figsize=(15,15))\n",
    "# loop to get images \n",
    "for n in range(9):\n",
    "  # make subplot \n",
    "  plt.subplot(3,3,n+1)\n",
    "  # make plot image \n",
    "  plt.imshow(x_train[n],cmap='Greys')\n",
    "  # add title \n",
    "  plt.title(y_train[n])\n",
    "  # make axis off \n",
    "  plt.axis('off')\n",
    "# make plot \n",
    "plt.tight_layout()\n",
    "# make show \n",
    "plt.show()"
   ]
  },
  {
   "cell_type": "code",
   "execution_count": null,
   "metadata": {
    "id": "I5ZyI89q0DPS"
   },
   "outputs": [],
   "source": [
    "x_train = x_train/255.0\n",
    "x_test = x_test/255.0"
   ]
  },
  {
   "cell_type": "code",
   "execution_count": null,
   "metadata": {
    "colab": {
     "base_uri": "https://localhost:8080/"
    },
    "id": "dBtN7mBN0TO3",
    "outputId": "fdebade6-5832-4c90-99cb-707e3d1f0f3f"
   },
   "outputs": [
    {
     "name": "stdout",
     "output_type": "stream",
     "text": [
      "There are60000 examples with shape(28, 28)\n"
     ]
    }
   ],
   "source": [
    "data_shape = x_train.shape\n",
    "print(f'There are{data_shape[0]} examples with shape({data_shape[1]}, {data_shape[2]})')"
   ]
  },
  {
   "cell_type": "code",
   "execution_count": null,
   "metadata": {
    "id": "Yr5EhGHZ0vI0"
   },
   "outputs": [],
   "source": [
    "# Graded class: myCallback\n",
    "class myCallback(tf.keras.callbacks.Callback):\n",
    "  def on_epoch_end(self, epoch, logs={}):\n",
    "    if logs.get('accuracy') is not None and logs.get('accuracy')>0.995:\n",
    "      print('\\nReached 99% accuracy so cancelling training')\n",
    "\n",
    "      #Stop training\n",
    "      self.model.stop_training = True"
   ]
  },
  {
   "cell_type": "code",
   "execution_count": null,
   "metadata": {
    "id": "zkUWMTk61kEf"
   },
   "outputs": [],
   "source": [
    "def train_mnist(x_train, y_train):\n",
    "  callbacks = myCallback()\n",
    "\n",
    "  #define the model\n",
    "  model = tf.keras.models.Sequential([\n",
    "      tf.keras.layers.Flatten(input_shape=(28,28)),\n",
    "      tf.keras.layers.Dense(128, activation=tf.nn.relu),\n",
    "      tf.keras.layers.Dense(10, activation=tf.nn.softmax)\n",
    "  ])\n",
    "\n",
    "  # Compile the model\n",
    "  model.compile(optimizer='adam',loss='sparse_categorical_crossentropy',\n",
    "                metrics=['accuracy'])\n",
    "    \n",
    "    # Fit the model for 10 epochs adding the callbacks\n",
    "    # and save the training history\n",
    "  history = model.fit(x_train, y_train, epochs=10, callbacks=[callbacks])\n",
    "\n",
    "    ### END CODE HERE\n",
    "\n",
    "  return history"
   ]
  },
  {
   "cell_type": "code",
   "execution_count": null,
   "metadata": {
    "colab": {
     "base_uri": "https://localhost:8080/"
    },
    "id": "sMEvUelCD2W9",
    "outputId": "8c5e56b7-4fa6-424c-e317-c19fe92c1a8c"
   },
   "outputs": [
    {
     "name": "stdout",
     "output_type": "stream",
     "text": [
      "Epoch 1/10\n",
      "1875/1875 [==============================] - 11s 4ms/step - loss: 0.2596 - accuracy: 0.9254\n",
      "Epoch 2/10\n",
      "1875/1875 [==============================] - 5s 3ms/step - loss: 0.1139 - accuracy: 0.9667\n",
      "Epoch 3/10\n",
      "1875/1875 [==============================] - 5s 3ms/step - loss: 0.0768 - accuracy: 0.9769\n",
      "Epoch 4/10\n",
      "1875/1875 [==============================] - 5s 3ms/step - loss: 0.0576 - accuracy: 0.9828\n",
      "Epoch 5/10\n",
      "1875/1875 [==============================] - 5s 3ms/step - loss: 0.0449 - accuracy: 0.9864\n",
      "Epoch 6/10\n",
      "1875/1875 [==============================] - 5s 3ms/step - loss: 0.0366 - accuracy: 0.9882\n",
      "Epoch 7/10\n",
      "1868/1875 [============================>.] - ETA: 0s - loss: 0.0280 - accuracy: 0.9914\n",
      "Reached 99% accuracy so cancelling training\n",
      "1875/1875 [==============================] - 5s 3ms/step - loss: 0.0280 - accuracy: 0.9914\n"
     ]
    }
   ],
   "source": [
    "hist = train_mnist(x_train, y_train)"
   ]
  },
  {
   "cell_type": "code",
   "execution_count": null,
   "metadata": {
    "id": "uh_FUP3ZFe-q"
   },
   "outputs": [],
   "source": [
    "def trainMnist(x_train, y_train):\n",
    "  callbacks = myCallback()\n",
    "\n",
    "  #define model\n",
    "  model_cnn = tf.keras.models.Sequential([\n",
    "  # Add convolutional layres and MaxPooling\n",
    "    tf.keras.layers.Conv2D(64,(3,3),activation='relu',\n",
    "                           input_shape=(28,28,1)),\n",
    "    tf.keras.layers.MaxPooling2D(2,2),\n",
    "\n",
    "    tf.keras.layers.Conv2D(64,(3,3),activation='relu'),\n",
    "    tf.keras.layers.MaxPooling2D(2,2),\n",
    "\n",
    "    tf.keras.layers.Flatten(),\n",
    "    tf.keras.layers.Dense(128, activation='relu'),\n",
    "    tf.keras.layers.Dense(10, activation='softmax')\n",
    "  ])                    \n",
    "  model_cnn.compile(optimizer='adam',loss='sparse_categorical_crossentropy',metrics=['accuracy'])\n",
    "  history = model_cnn.fit(x_train, y_train, epochs=15)"
   ]
  },
  {
   "cell_type": "code",
   "execution_count": null,
   "metadata": {
    "colab": {
     "background_save": true,
     "base_uri": "https://localhost:8080/"
    },
    "id": "VByi0e5bHDRR",
    "outputId": "94f6594d-b2a4-455f-e82b-2ee085bd134c"
   },
   "outputs": [
    {
     "name": "stdout",
     "output_type": "stream",
     "text": [
      "Epoch 1/15\n",
      "1875/1875 [==============================] - 84s 45ms/step - loss: 0.0735 - accuracy: 0.9775\n",
      "Epoch 2/15\n",
      "1875/1875 [==============================] - 83s 44ms/step - loss: 0.0367 - accuracy: 0.9884\n",
      "Epoch 3/15\n",
      "1875/1875 [==============================] - 83s 44ms/step - loss: 0.0255 - accuracy: 0.9916\n",
      "Epoch 4/15\n",
      "1875/1875 [==============================] - 82s 44ms/step - loss: 0.0178 - accuracy: 0.9945\n",
      "Epoch 5/15\n",
      "1875/1875 [==============================] - 82s 44ms/step - loss: 0.0142 - accuracy: 0.9954\n",
      "Epoch 6/15\n",
      "1875/1875 [==============================] - 82s 44ms/step - loss: 0.0124 - accuracy: 0.9960\n",
      "Epoch 7/15\n",
      "1875/1875 [==============================] - 82s 44ms/step - loss: 0.0080 - accuracy: 0.9974\n",
      "Epoch 8/15\n",
      "1875/1875 [==============================] - 82s 44ms/step - loss: 0.0076 - accuracy: 0.9973\n",
      "Epoch 9/15\n",
      "1875/1875 [==============================] - 82s 44ms/step - loss: 0.0076 - accuracy: 0.9975\n",
      "Epoch 10/15\n",
      "1875/1875 [==============================] - 83s 44ms/step - loss: 0.0060 - accuracy: 0.9979\n",
      "Epoch 11/15\n",
      "1875/1875 [==============================] - 82s 44ms/step - loss: 0.0057 - accuracy: 0.9980\n",
      "Epoch 12/15\n",
      "1875/1875 [==============================] - 83s 44ms/step - loss: 0.0050 - accuracy: 0.9985\n",
      "Epoch 13/15\n",
      "1875/1875 [==============================] - 83s 44ms/step - loss: 0.0043 - accuracy: 0.9986\n",
      "Epoch 14/15\n",
      "1875/1875 [==============================] - 83s 44ms/step - loss: 0.0042 - accuracy: 0.9987\n",
      "Epoch 15/15\n",
      "1875/1875 [==============================] - 83s 44ms/step - loss: 0.0048 - accuracy: 0.9984\n"
     ]
    },
    {
     "data": {
      "text/plain": [
       "<keras.callbacks.History at 0x7fa7ad23ed50>"
      ]
     },
     "execution_count": null,
     "metadata": {},
     "output_type": "execute_result"
    }
   ],
   "source": [
    "hist = train_mnist(x_train, y_train)"
   ]
  }
 ],
 "metadata": {
  "accelerator": "GPU",
  "colab": {
   "collapsed_sections": [],
   "name": "digit_recognition.ipynb",
   "provenance": []
  },
  "kernelspec": {
   "display_name": "Python 3 (ipykernel)",
   "language": "python",
   "name": "python3"
  },
  "language_info": {
   "codemirror_mode": {
    "name": "ipython",
    "version": 3
   },
   "file_extension": ".py",
   "mimetype": "text/x-python",
   "name": "python",
   "nbconvert_exporter": "python",
   "pygments_lexer": "ipython3",
   "version": "3.8.10"
  }
 },
 "nbformat": 4,
 "nbformat_minor": 1
}
